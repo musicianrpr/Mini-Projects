{
 "metadata": {
  "language_info": {
   "codemirror_mode": {
    "name": "ipython",
    "version": 3
   },
   "file_extension": ".py",
   "mimetype": "text/x-python",
   "name": "python",
   "nbconvert_exporter": "python",
   "pygments_lexer": "ipython3",
   "version": 3
  },
  "orig_nbformat": 2,
  "kernelspec": {
   "name": "python_defaultSpec_1596335182483",
   "display_name": "Python 3.8.2 32-bit ('.venv': venv)"
  }
 },
 "nbformat": 4,
 "nbformat_minor": 2,
 "cells": [
  {
   "cell_type": "code",
   "execution_count": 30,
   "metadata": {},
   "outputs": [],
   "source": [
    "import pandas as pd\n",
    "#reading a wine dataset\n",
    "df_wine = pd.read_csv('datasets_16721_22034_wine_dataset.csv')"
   ]
  },
  {
   "cell_type": "code",
   "execution_count": 31,
   "metadata": {},
   "outputs": [
    {
     "output_type": "execute_result",
     "data": {
      "text/plain": "   fixed_acidity  volatile_acidity  citric_acid  residual_sugar  chlorides  \\\n0            7.4              0.70         0.00             1.9      0.076   \n1            7.8              0.88         0.00             2.6      0.098   \n2            7.8              0.76         0.04             2.3      0.092   \n3           11.2              0.28         0.56             1.9      0.075   \n4            7.4              0.70         0.00             1.9      0.076   \n5            7.4              0.66         0.00             1.8      0.075   \n6            7.9              0.60         0.06             1.6      0.069   \n7            7.3              0.65         0.00             1.2      0.065   \n8            7.8              0.58         0.02             2.0      0.073   \n9            7.5              0.50         0.36             6.1      0.071   \n\n   free_sulfur_dioxide  total_sulfur_dioxide  density    pH  sulphates  \\\n0                 11.0                  34.0   0.9978  3.51       0.56   \n1                 25.0                  67.0   0.9968  3.20       0.68   \n2                 15.0                  54.0   0.9970  3.26       0.65   \n3                 17.0                  60.0   0.9980  3.16       0.58   \n4                 11.0                  34.0   0.9978  3.51       0.56   \n5                 13.0                  40.0   0.9978  3.51       0.56   \n6                 15.0                  59.0   0.9964  3.30       0.46   \n7                 15.0                  21.0   0.9946  3.39       0.47   \n8                  9.0                  18.0   0.9968  3.36       0.57   \n9                 17.0                 102.0   0.9978  3.35       0.80   \n\n   alcohol  quality style  \n0      9.4        5   red  \n1      9.8        5   red  \n2      9.8        5   red  \n3      9.8        6   red  \n4      9.4        5   red  \n5      9.4        5   red  \n6      9.4        5   red  \n7     10.0        7   red  \n8      9.5        7   red  \n9     10.5        5   red  ",
      "text/html": "<div>\n<style scoped>\n    .dataframe tbody tr th:only-of-type {\n        vertical-align: middle;\n    }\n\n    .dataframe tbody tr th {\n        vertical-align: top;\n    }\n\n    .dataframe thead th {\n        text-align: right;\n    }\n</style>\n<table border=\"1\" class=\"dataframe\">\n  <thead>\n    <tr style=\"text-align: right;\">\n      <th></th>\n      <th>fixed_acidity</th>\n      <th>volatile_acidity</th>\n      <th>citric_acid</th>\n      <th>residual_sugar</th>\n      <th>chlorides</th>\n      <th>free_sulfur_dioxide</th>\n      <th>total_sulfur_dioxide</th>\n      <th>density</th>\n      <th>pH</th>\n      <th>sulphates</th>\n      <th>alcohol</th>\n      <th>quality</th>\n      <th>style</th>\n    </tr>\n  </thead>\n  <tbody>\n    <tr>\n      <th>0</th>\n      <td>7.4</td>\n      <td>0.70</td>\n      <td>0.00</td>\n      <td>1.9</td>\n      <td>0.076</td>\n      <td>11.0</td>\n      <td>34.0</td>\n      <td>0.9978</td>\n      <td>3.51</td>\n      <td>0.56</td>\n      <td>9.4</td>\n      <td>5</td>\n      <td>red</td>\n    </tr>\n    <tr>\n      <th>1</th>\n      <td>7.8</td>\n      <td>0.88</td>\n      <td>0.00</td>\n      <td>2.6</td>\n      <td>0.098</td>\n      <td>25.0</td>\n      <td>67.0</td>\n      <td>0.9968</td>\n      <td>3.20</td>\n      <td>0.68</td>\n      <td>9.8</td>\n      <td>5</td>\n      <td>red</td>\n    </tr>\n    <tr>\n      <th>2</th>\n      <td>7.8</td>\n      <td>0.76</td>\n      <td>0.04</td>\n      <td>2.3</td>\n      <td>0.092</td>\n      <td>15.0</td>\n      <td>54.0</td>\n      <td>0.9970</td>\n      <td>3.26</td>\n      <td>0.65</td>\n      <td>9.8</td>\n      <td>5</td>\n      <td>red</td>\n    </tr>\n    <tr>\n      <th>3</th>\n      <td>11.2</td>\n      <td>0.28</td>\n      <td>0.56</td>\n      <td>1.9</td>\n      <td>0.075</td>\n      <td>17.0</td>\n      <td>60.0</td>\n      <td>0.9980</td>\n      <td>3.16</td>\n      <td>0.58</td>\n      <td>9.8</td>\n      <td>6</td>\n      <td>red</td>\n    </tr>\n    <tr>\n      <th>4</th>\n      <td>7.4</td>\n      <td>0.70</td>\n      <td>0.00</td>\n      <td>1.9</td>\n      <td>0.076</td>\n      <td>11.0</td>\n      <td>34.0</td>\n      <td>0.9978</td>\n      <td>3.51</td>\n      <td>0.56</td>\n      <td>9.4</td>\n      <td>5</td>\n      <td>red</td>\n    </tr>\n    <tr>\n      <th>5</th>\n      <td>7.4</td>\n      <td>0.66</td>\n      <td>0.00</td>\n      <td>1.8</td>\n      <td>0.075</td>\n      <td>13.0</td>\n      <td>40.0</td>\n      <td>0.9978</td>\n      <td>3.51</td>\n      <td>0.56</td>\n      <td>9.4</td>\n      <td>5</td>\n      <td>red</td>\n    </tr>\n    <tr>\n      <th>6</th>\n      <td>7.9</td>\n      <td>0.60</td>\n      <td>0.06</td>\n      <td>1.6</td>\n      <td>0.069</td>\n      <td>15.0</td>\n      <td>59.0</td>\n      <td>0.9964</td>\n      <td>3.30</td>\n      <td>0.46</td>\n      <td>9.4</td>\n      <td>5</td>\n      <td>red</td>\n    </tr>\n    <tr>\n      <th>7</th>\n      <td>7.3</td>\n      <td>0.65</td>\n      <td>0.00</td>\n      <td>1.2</td>\n      <td>0.065</td>\n      <td>15.0</td>\n      <td>21.0</td>\n      <td>0.9946</td>\n      <td>3.39</td>\n      <td>0.47</td>\n      <td>10.0</td>\n      <td>7</td>\n      <td>red</td>\n    </tr>\n    <tr>\n      <th>8</th>\n      <td>7.8</td>\n      <td>0.58</td>\n      <td>0.02</td>\n      <td>2.0</td>\n      <td>0.073</td>\n      <td>9.0</td>\n      <td>18.0</td>\n      <td>0.9968</td>\n      <td>3.36</td>\n      <td>0.57</td>\n      <td>9.5</td>\n      <td>7</td>\n      <td>red</td>\n    </tr>\n    <tr>\n      <th>9</th>\n      <td>7.5</td>\n      <td>0.50</td>\n      <td>0.36</td>\n      <td>6.1</td>\n      <td>0.071</td>\n      <td>17.0</td>\n      <td>102.0</td>\n      <td>0.9978</td>\n      <td>3.35</td>\n      <td>0.80</td>\n      <td>10.5</td>\n      <td>5</td>\n      <td>red</td>\n    </tr>\n  </tbody>\n</table>\n</div>"
     },
     "metadata": {},
     "execution_count": 31
    }
   ],
   "source": [
    "df_wine.head(10)"
   ]
  },
  {
   "cell_type": "code",
   "execution_count": 35,
   "metadata": {},
   "outputs": [],
   "source": [
    "#replacing the wine styles to numbers\n",
    "#now we can use this data to machine learning\n",
    "df_wine['style'] = df_wine['style'].replace('red', 0)\n",
    "df_wine['style'] = df_wine['style'].replace('white', 1)"
   ]
  },
  {
   "cell_type": "code",
   "execution_count": 36,
   "metadata": {},
   "outputs": [
    {
     "output_type": "execute_result",
     "data": {
      "text/plain": "0    0\n1    0\n2    0\n3    0\n4    0\nName: style, dtype: int64"
     },
     "metadata": {},
     "execution_count": 36
    }
   ],
   "source": [
    "df_wine['style'].head()"
   ]
  },
  {
   "cell_type": "code",
   "execution_count": 37,
   "metadata": {},
   "outputs": [],
   "source": [
    "#dividing the test data in two parts:\n",
    "#information and answers\n",
    "y = df_wine['style']\n",
    "x = df_wine.drop('style', axis=1)"
   ]
  },
  {
   "cell_type": "code",
   "execution_count": 10,
   "metadata": {},
   "outputs": [],
   "source": [
    "from sklearn.model_selection import train_test_split\n",
    "#defining 30% of the wine dataset as a test content\n",
    "x_train, x_test, y_train, y_test = train_test_split(x, y , test_size=0.3)"
   ]
  },
  {
   "cell_type": "code",
   "execution_count": 38,
   "metadata": {
    "tags": []
   },
   "outputs": [
    {
     "output_type": "stream",
     "name": "stdout",
     "text": "Accuracy: 99.69%\n"
    }
   ],
   "source": [
    "from sklearn.ensemble import ExtraTreesClassifier as etc\n",
    "model = etc()\n",
    "#training us machine\n",
    "model.fit(x_train, y_train)\n",
    "#showing it results\n",
    "result = model.score(x_test, y_test) * 100\n",
    "print(f'Accuracy: {result:.2f}%')"
   ]
  },
  {
   "cell_type": "code",
   "execution_count": 40,
   "metadata": {},
   "outputs": [
    {
     "output_type": "execute_result",
     "data": {
      "text/plain": "      fixed_acidity  volatile_acidity  citric_acid  residual_sugar  chlorides  \\\n6170            5.7             0.220         0.28            1.30      0.027   \n2204            6.3             0.260         0.49            1.50      0.052   \n1411            6.4             0.470         0.40            2.40      0.071   \n2348            7.3             0.300         0.42            7.35      0.025   \n2783            7.9             0.460         0.32            4.10      0.033   \n1510            6.4             0.360         0.21            2.20      0.047   \n5347            6.2             0.240         0.25           12.50      0.055   \n918             8.4             0.360         0.32            2.20      0.081   \n700            10.6             1.020         0.43            2.90      0.076   \n600             8.2             0.915         0.27            2.10      0.088   \n\n      free_sulfur_dioxide  total_sulfur_dioxide  density    pH  sulphates  \\\n6170                 26.0                 101.0  0.98948  3.35       0.38   \n2204                 34.0                 134.0  0.99240  2.99       0.61   \n1411                  8.0                  19.0  0.99630  3.56       0.73   \n2348                 51.0                 175.0  0.99280  3.04       0.32   \n2783                 40.0                 138.0  0.99120  3.18       0.44   \n1510                 26.0                  48.0  0.99661  3.47       0.77   \n5347                 47.0                 134.0  0.99758  3.30       0.51   \n918                  32.0                  79.0  0.99640  3.30       0.72   \n700                  26.0                  88.0  0.99840  3.08       0.57   \n600                   7.0                  23.0  0.99620  3.26       0.47   \n\n      alcohol  quality  \n6170     12.5        7  \n2204      9.8        6  \n1411     10.6        6  \n2348     11.4        6  \n2783     12.8        7  \n1510      9.7        6  \n5347      9.0        5  \n918      11.0        6  \n700      10.1        6  \n600      10.0        4  ",
      "text/html": "<div>\n<style scoped>\n    .dataframe tbody tr th:only-of-type {\n        vertical-align: middle;\n    }\n\n    .dataframe tbody tr th {\n        vertical-align: top;\n    }\n\n    .dataframe thead th {\n        text-align: right;\n    }\n</style>\n<table border=\"1\" class=\"dataframe\">\n  <thead>\n    <tr style=\"text-align: right;\">\n      <th></th>\n      <th>fixed_acidity</th>\n      <th>volatile_acidity</th>\n      <th>citric_acid</th>\n      <th>residual_sugar</th>\n      <th>chlorides</th>\n      <th>free_sulfur_dioxide</th>\n      <th>total_sulfur_dioxide</th>\n      <th>density</th>\n      <th>pH</th>\n      <th>sulphates</th>\n      <th>alcohol</th>\n      <th>quality</th>\n    </tr>\n  </thead>\n  <tbody>\n    <tr>\n      <th>6170</th>\n      <td>5.7</td>\n      <td>0.220</td>\n      <td>0.28</td>\n      <td>1.30</td>\n      <td>0.027</td>\n      <td>26.0</td>\n      <td>101.0</td>\n      <td>0.98948</td>\n      <td>3.35</td>\n      <td>0.38</td>\n      <td>12.5</td>\n      <td>7</td>\n    </tr>\n    <tr>\n      <th>2204</th>\n      <td>6.3</td>\n      <td>0.260</td>\n      <td>0.49</td>\n      <td>1.50</td>\n      <td>0.052</td>\n      <td>34.0</td>\n      <td>134.0</td>\n      <td>0.99240</td>\n      <td>2.99</td>\n      <td>0.61</td>\n      <td>9.8</td>\n      <td>6</td>\n    </tr>\n    <tr>\n      <th>1411</th>\n      <td>6.4</td>\n      <td>0.470</td>\n      <td>0.40</td>\n      <td>2.40</td>\n      <td>0.071</td>\n      <td>8.0</td>\n      <td>19.0</td>\n      <td>0.99630</td>\n      <td>3.56</td>\n      <td>0.73</td>\n      <td>10.6</td>\n      <td>6</td>\n    </tr>\n    <tr>\n      <th>2348</th>\n      <td>7.3</td>\n      <td>0.300</td>\n      <td>0.42</td>\n      <td>7.35</td>\n      <td>0.025</td>\n      <td>51.0</td>\n      <td>175.0</td>\n      <td>0.99280</td>\n      <td>3.04</td>\n      <td>0.32</td>\n      <td>11.4</td>\n      <td>6</td>\n    </tr>\n    <tr>\n      <th>2783</th>\n      <td>7.9</td>\n      <td>0.460</td>\n      <td>0.32</td>\n      <td>4.10</td>\n      <td>0.033</td>\n      <td>40.0</td>\n      <td>138.0</td>\n      <td>0.99120</td>\n      <td>3.18</td>\n      <td>0.44</td>\n      <td>12.8</td>\n      <td>7</td>\n    </tr>\n    <tr>\n      <th>1510</th>\n      <td>6.4</td>\n      <td>0.360</td>\n      <td>0.21</td>\n      <td>2.20</td>\n      <td>0.047</td>\n      <td>26.0</td>\n      <td>48.0</td>\n      <td>0.99661</td>\n      <td>3.47</td>\n      <td>0.77</td>\n      <td>9.7</td>\n      <td>6</td>\n    </tr>\n    <tr>\n      <th>5347</th>\n      <td>6.2</td>\n      <td>0.240</td>\n      <td>0.25</td>\n      <td>12.50</td>\n      <td>0.055</td>\n      <td>47.0</td>\n      <td>134.0</td>\n      <td>0.99758</td>\n      <td>3.30</td>\n      <td>0.51</td>\n      <td>9.0</td>\n      <td>5</td>\n    </tr>\n    <tr>\n      <th>918</th>\n      <td>8.4</td>\n      <td>0.360</td>\n      <td>0.32</td>\n      <td>2.20</td>\n      <td>0.081</td>\n      <td>32.0</td>\n      <td>79.0</td>\n      <td>0.99640</td>\n      <td>3.30</td>\n      <td>0.72</td>\n      <td>11.0</td>\n      <td>6</td>\n    </tr>\n    <tr>\n      <th>700</th>\n      <td>10.6</td>\n      <td>1.020</td>\n      <td>0.43</td>\n      <td>2.90</td>\n      <td>0.076</td>\n      <td>26.0</td>\n      <td>88.0</td>\n      <td>0.99840</td>\n      <td>3.08</td>\n      <td>0.57</td>\n      <td>10.1</td>\n      <td>6</td>\n    </tr>\n    <tr>\n      <th>600</th>\n      <td>8.2</td>\n      <td>0.915</td>\n      <td>0.27</td>\n      <td>2.10</td>\n      <td>0.088</td>\n      <td>7.0</td>\n      <td>23.0</td>\n      <td>0.99620</td>\n      <td>3.26</td>\n      <td>0.47</td>\n      <td>10.0</td>\n      <td>4</td>\n    </tr>\n  </tbody>\n</table>\n</div>"
     },
     "metadata": {},
     "execution_count": 40
    }
   ],
   "source": [
    "x_test[100:110]"
   ]
  },
  {
   "cell_type": "code",
   "execution_count": 41,
   "metadata": {},
   "outputs": [
    {
     "output_type": "execute_result",
     "data": {
      "text/plain": "6170    1\n2204    1\n1411    0\n2348    1\n2783    1\n1510    0\n5347    1\n918     0\n700     0\n600     0\nName: style, dtype: int64"
     },
     "metadata": {},
     "execution_count": 41
    }
   ],
   "source": [
    "y_test[100:110]"
   ]
  }
 ]
}